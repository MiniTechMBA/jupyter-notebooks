{
 "cells": [
  {
   "cell_type": "markdown",
   "metadata": {},
   "source": [
    "`\\copy (SELECT * FROM qf_attempts a JOIN qf_users u ON a.user_id = u.id) TO '/tmp/sqlrn_attempts.csv' CSV HEADER`"
   ]
  },
  {
   "cell_type": "code",
   "execution_count": null,
   "metadata": {
    "collapsed": true
   },
   "outputs": [],
   "source": [
    "import pandas as pd\n",
    "import numpy as np\n",
    "import matplotlib.pyplot as plt\n",
    "%matplotlib inline"
   ]
  },
  {
   "cell_type": "code",
   "execution_count": null,
   "metadata": {
    "collapsed": true
   },
   "outputs": [],
   "source": [
    "df = pd.read_csv('./data/mtmba_sqlrn_attempts.csv', index_col='id')\n",
    "del df['id.1']\n",
    "del df['created_at.1']\n",
    "del df['updated_at.1']\n",
    "del df['remember_token']\n",
    "df['query'] = df['query'].str.strip()"
   ]
  },
  {
   "cell_type": "code",
   "execution_count": null,
   "metadata": {},
   "outputs": [],
   "source": [
    "sc = pd.plotting.scatter_matrix(df, alpha=0.3, figsize=(10, 10),\n",
    "diagonal='hist', marker='o', grid=False)"
   ]
  },
  {
   "cell_type": "code",
   "execution_count": null,
   "metadata": {
    "scrolled": true
   },
   "outputs": [],
   "source": [
    "counts = df.groupby(['exercise_id', 'valid']).agg({'query': {'attempts_count': 'count'}, 'username': {'distinct_users': pd.Series.nunique}})\n",
    "counts.columns = counts.columns.droplevel(0)\n",
    "counts.reset_index(level=1, inplace=True)\n",
    "counts"
   ]
  },
  {
   "cell_type": "code",
   "execution_count": null,
   "metadata": {},
   "outputs": [],
   "source": [
    "df.head()"
   ]
  },
  {
   "cell_type": "code",
   "execution_count": null,
   "metadata": {},
   "outputs": [],
   "source": [
    "mtmba_status = df.pivot_table('username', index='exercise_id', columns='status', aggfunc='count')"
   ]
  },
  {
   "cell_type": "code",
   "execution_count": null,
   "metadata": {},
   "outputs": [],
   "source": [
    "mtmba_status"
   ]
  },
  {
   "cell_type": "code",
   "execution_count": null,
   "metadata": {},
   "outputs": [],
   "source": [
    "mtmba_status.plot()"
   ]
  },
  {
   "cell_type": "code",
   "execution_count": null,
   "metadata": {
    "scrolled": true
   },
   "outputs": [],
   "source": [
    "counts.sort_values('attempts_count', ascending=False, inplace=True)\n",
    "counts[counts.valid == 't'][:30].plot(kind='bar')"
   ]
  },
  {
   "cell_type": "code",
   "execution_count": null,
   "metadata": {
    "collapsed": true
   },
   "outputs": [],
   "source": [
    "pd.set_option('display.max_colwidth', -1)"
   ]
  },
  {
   "cell_type": "code",
   "execution_count": null,
   "metadata": {},
   "outputs": [],
   "source": [
    "plt.figure(figsize=(18,8))\n",
    "date_histogram = df.groupby(pd.to_datetime(df.created_at).map(lambda x: x.date())).size()\n",
    "#plt.subplot(211)\n",
    "fig = date_histogram.plot(kind='bar')\n",
    "plt.axvspan(0, 6, color='gray', alpha=0.1)\n",
    "plt.axvspan(14, 20, color='gray', alpha=0.1)\n",
    "plt.axvspan(28, 34, color='gray', alpha=0.1)\n",
    "plt.axvspan(42, 48, color='gray', alpha=0.1)\n",
    "plt.axvspan(56, 62, color='gray', alpha=0.1)\n",
    "plt.axvspan(70, 76, color='gray', alpha=0.1)\n",
    "plt.axvline(63, color='red', linestyle='--', linewidth=3)\n",
    "plt.axvline(80, color='red', linestyle=':', linewidth=3)\n",
    "fig.set_title('Number of attempts per day')\n",
    "fig.set_xlabel('day')\n",
    "fig.set_ylabel('no. of attempts')\n",
    "plt.legend(['exam', 'resit exam'])\n",
    "plt.savefig(\"days.png\", bbox_inches='tight', pad_inches=0.1)\n",
    "#plt.subplot(212)\n",
    "#(students_df.groupby(pd.to_datetime(students_df.created_at).map(lambda x: x.weekday())).size()).plot(kind='bar')"
   ]
  },
  {
   "cell_type": "code",
   "execution_count": null,
   "metadata": {},
   "outputs": [],
   "source": [
    "plt.figure(figsize=(18,8))\n",
    "date_histogram = df.groupby(pd.to_datetime(df.created_at).map(lambda x: x.weekday())).size()\n",
    "fig = date_histogram.plot(kind='bar')\n",
    "fig.set_title('Number of attempts per week day')\n",
    "fig.set_xlabel('Weekday')\n",
    "fig.set_xticklabels(('Mon', 'Tue', 'Wed', 'Thu', 'Fri', 'Sat', 'Sun'))\n",
    "fig.set_ylabel('no. of attempts')\n",
    "plt.savefig(\"weekdays.png\")"
   ]
  },
  {
   "cell_type": "code",
   "execution_count": null,
   "metadata": {},
   "outputs": [],
   "source": [
    "plt.figure\n",
    "plt.figure(figsize=(18,4))\n",
    "date_histogram = df.groupby(pd.to_datetime(df.created_at).map(lambda x: x.strftime('%H'))).size()\n",
    "fig = date_histogram.plot(kind='bar')\n",
    "fig.set_title('Number of attempts per hour of a day')\n",
    "fig.set_xlabel('Hour of day')\n",
    "fig.set_ylabel('no. of attempts')\n",
    "plt.savefig(\"hours.png\")"
   ]
  },
  {
   "cell_type": "code",
   "execution_count": null,
   "metadata": {},
   "outputs": [],
   "source": [
    "attempts_by_exercise_user = df.loc[(df.status == 'f')].groupby(['exercise_id', 'user_id']).count().add_suffix('_count').reset_index()\n",
    "avg_attempts_by_exercise = attempts_by_exercise_user.groupby('exercise_id')['query_count'].mean()\n",
    "#fig = pd.DataFrame.boxplot(avg_attempts_by_exercise)\n",
    "fig = avg_attempts_by_exercise.plot(kind='box')\n",
    "fig.set_title('Average number of false \\n attempts over all exercises')\n",
    "fig.set_xlabel('')\n",
    "fig.set_xticklabels((''))\n",
    "#fig.set_xticklabels(('Mon', 'Tue', 'Wed', 'Thu', 'Fri', 'Sat', 'Sun'))\n",
    "fig.set_ylabel('no. of attempts')\n",
    "plt.savefig(\"boxplot.svg\")"
   ]
  },
  {
   "cell_type": "code",
   "execution_count": null,
   "metadata": {},
   "outputs": [],
   "source": [
    "attempts_by_exercise_user = df.loc[(df.status == 'f')].groupby(['exercise_id', 'user_id']).count().add_suffix('_count').reset_index()\n",
    "avg_attempts_by_exercise = attempts_by_exercise_user.groupby('exercise_id')['query_count'].quantile(0.99)\n",
    "#fig = pd.DataFrame.boxplot(avg_attempts_by_exercise)\n",
    "fig = avg_attempts_by_exercise.plot(kind='box')\n",
    "fig.set_title('99 percentile of number of false \\n attempts over all exercises')\n",
    "fig.set_xlabel('')\n",
    "fig.set_xticklabels((''))\n",
    "fig.set_ylabel('no. of attempts')\n",
    "plt.savefig(\"boxplot-99.svg\")"
   ]
  },
  {
   "cell_type": "code",
   "execution_count": null,
   "metadata": {},
   "outputs": [],
   "source": [
    "attempts_by_exercise_user = df.loc[(df.status == 'f')].groupby(['exercise_id', 'user_id']).count().add_suffix('_count').reset_index()\n",
    "avg_attempts_by_exercise = attempts_by_exercise_user.groupby('user_id')['query_count'].mean()\n",
    "#fig = pd.DataFrame.boxplot(avg_attempts_by_exercise)\n",
    "plt.subplot(121)\n",
    "plt.subplots_adjust(wspace=1.1)\n",
    "fig = avg_attempts_by_exercise.plot(kind='box')\n",
    "fig.set_title('No. of false attempts over all \\n exercises (average per student)', y=1.05)\n",
    "fig.set_xlabel('')\n",
    "fig.set_xticklabels((''))\n",
    "#fig.set_xticklabels(('Mon', 'Tue', 'Wed', 'Thu', 'Fri', 'Sat', 'Sun'))\n",
    "fig.set_ylabel('no. of attempts')\n",
    "\n",
    "plt.subplot(122)\n",
    "attempts_by_exercise_user = df.loc[(df.status == 'f')].groupby(['exercise_id', 'user_id']).count().add_suffix('_count').reset_index()\n",
    "avg_attempts_by_exercise = attempts_by_exercise_user.groupby('user_id')['query_count'].quantile(0.99)\n",
    "#fig = pd.DataFrame.boxplot(avg_attempts_by_exercise)\n",
    "fig = avg_attempts_by_exercise.plot(kind='box')\n",
    "fig.set_title('No. of false attempts over all  \\n exercises (99 percentile per student)', y=1.05)\n",
    "fig.set_xlabel('')\n",
    "fig.set_xticklabels((''))\n",
    "fig.set_ylabel('no. of attempts')\n",
    "\n",
    "plt.savefig(\"boxplot-all-users.svg\", bbox_inches='tight', pad_inches=0.1)"
   ]
  },
  {
   "cell_type": "code",
   "execution_count": null,
   "metadata": {
    "collapsed": true
   },
   "outputs": [],
   "source": [
    "import datetime\n",
    "students_from_test = students_df.loc[pd.to_datetime(students_df.created_at).map(lambda x: x.date()) == datetime.date(2016, 6, 6,)]['user_id'].values"
   ]
  },
  {
   "cell_type": "code",
   "execution_count": null,
   "metadata": {},
   "outputs": [],
   "source": [
    "tested_students = students_df[students_df.user_id.isin(students_from_test)]\n",
    "max_no_of_exercises = tested_students[(tested_students.created_at < '2016-06-06')].exercise_id.nunique()\n",
    "max_no_of_exam_ex = tested_students[(pd.to_datetime(students_df.created_at).map(lambda x: x) > datetime.datetime(2016, 6, 6, 9)) & \n",
    "                                    (pd.to_datetime(students_df.created_at).map(lambda x: x) < datetime.datetime(2016, 6, 6, 13))].exercise_id.nunique()\n",
    "max_no_of_exam_ex\n",
    "before_exam_counts = tested_students[(pd.to_datetime(students_df.created_at).map(lambda x: x) < datetime.datetime(2016, 6, 6, 9)) & \n",
    "                (tested_students.status == 't')].groupby(['user_id', 'exercise_id']).count().reset_index().groupby('user_id').count().ix[:,'exercise_id'].rename('before_exam_counts')\n",
    "exam_counts = tested_students[(pd.to_datetime(students_df.created_at).map(lambda x: x) > datetime.datetime(2016, 6, 6, 9)) & \n",
    "                                    (pd.to_datetime(students_df.created_at).map(lambda x: x) < datetime.datetime(2016, 6, 6, 13)) & \n",
    "                (tested_students.status == 't')].groupby(['user_id', 'exercise_id']).count().reset_index().groupby('user_id').count().ix[:,'exercise_id'].rename('exam_counts')\n",
    "exam_counts\n",
    "joined = before_exam_counts.to_frame().join(exam_counts.to_frame()).fillna(0)"
   ]
  },
  {
   "cell_type": "code",
   "execution_count": null,
   "metadata": {},
   "outputs": [],
   "source": [
    "import matplotlib.ticker as mtick\n",
    "joined['before_ratio'] = joined['before_exam_counts'].map(lambda x: 100 * x/max_no_of_exercises)\n",
    "joined['after_ratio'] = joined['exam_counts'].map(lambda x: 100 * x/max_no_of_exam_ex)\n",
    "#joined[['before_ratio', 'after_ratio']]\n",
    "plt.scatter(joined['before_ratio'].values, joined['after_ratio'].values)\n",
    "fig = plt.gca()\n",
    "fig.set_title('Ratio of solved exercises prior the exam vs \\nratio of solved exercises on the exam')\n",
    "fig.set_xlabel('solved exercises prior the exam')\n",
    "fig.set_ylabel('solved exercises on the exam')\n",
    "fmt = '%.0f%%' # Format you want the ticks, e.g. '40%'\n",
    "xticks = mtick.FormatStrFormatter(fmt)\n",
    "fig.xaxis.set_major_formatter(xticks)\n",
    "fig.yaxis.set_major_formatter(xticks)\n",
    "plt.savefig(\"correlation.svg\",bbox_inches='tight', pad_inches=0.1)\n",
    "\n"
   ]
  },
  {
   "cell_type": "code",
   "execution_count": null,
   "metadata": {},
   "outputs": [],
   "source": [
    "import scipy as sc\n",
    "import scipy.stats\n",
    "sc.stats.spearmanr(joined['before_ratio'].values, joined['after_ratio'].values)\n"
   ]
  },
  {
   "cell_type": "code",
   "execution_count": null,
   "metadata": {},
   "outputs": [],
   "source": [
    "students_df.loc[(students_df.user_id == 47) & (students_df.status == 't')]"
   ]
  }
 ],
 "metadata": {
  "kernelspec": {
   "display_name": "Python 3",
   "language": "python",
   "name": "python3"
  },
  "language_info": {
   "codemirror_mode": {
    "name": "ipython",
    "version": 3
   },
   "file_extension": ".py",
   "mimetype": "text/x-python",
   "name": "python",
   "nbconvert_exporter": "python",
   "pygments_lexer": "ipython3",
   "version": "3.6.2"
  }
 },
 "nbformat": 4,
 "nbformat_minor": 1
}
